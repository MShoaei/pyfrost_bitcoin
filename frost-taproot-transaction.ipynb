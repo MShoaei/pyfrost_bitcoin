{
 "cells": [
  {
   "cell_type": "code",
   "execution_count": 1,
   "metadata": {
    "metadata": {}
   },
   "outputs": [],
   "source": [
    "%load_ext autoreload\n",
    "%autoreload 3\n",
    "\n",
    "import random\n",
    "\n",
    "from pyfrost import frost\n",
    "\n",
    "from bitcoinutils.setup import setup\n",
    "from bitcoinutils.schnorr import int_from_bytes, bytes_from_int\n",
    "from bitcoinutils.transactions import Transaction, TxInput, TxOutput, TxWitnessInput\n",
    "from bitcoinutils.keys import PrivateKey, P2wpkhAddress\n",
    "from bitcoinutils.constants import TAPROOT_SIGHASH_ALL\n",
    "\n",
    "DEBUG = True"
   ]
  },
  {
   "cell_type": "markdown",
   "metadata": {},
   "source": [
    "install `bitcoinutils` before running this notebook:\n",
    "```bash\n",
    "pip install bitcoin-utils\n",
    "```\n",
    "Note:\n",
    "The transaction which will be signed with this notebook actually exists on the bitcoin mainnet with txid: `bdf2f23bb2913d2ad427abd2cd512098339a329ee0e1ec42c6d07b9384aca43c`\n"
   ]
  },
  {
   "cell_type": "markdown",
   "metadata": {},
   "source": [
    "# Generate distributed private key"
   ]
  },
  {
   "cell_type": "code",
   "execution_count": 2,
   "metadata": {
    "metadata": {}
   },
   "outputs": [
    {
     "data": {
      "text/plain": [
       "('0',\n",
       " ['1', '2', '3'],\n",
       " [76622783108274780747756398270842445905196011304614807988789919767093500641526,\n",
       "  31539798353799524717306909827363202534126249987352659471385619342384101334542,\n",
       "  11876258468244277196215122101097336748296574692628866445318678405621527234717])"
      ]
     },
     "execution_count": 2,
     "metadata": {},
     "output_type": "execute_result"
    }
   ],
   "source": [
    "DKG_ID = \"0\"\n",
    "N = 3\n",
    "T = 2\n",
    "PARTY = [\"1\",\"2\",\"3\"]\n",
    "COEF0 = [\n",
    "    76622783108274780747756398270842445905196011304614807988789919767093500641526,\n",
    "    31539798353799524717306909827363202534126249987352659471385619342384101334542,\n",
    "    11876258468244277196215122101097336748296574692628866445318678405621527234717,\n",
    "]\n",
    "master_secret = 4246750693002387237707445190615077334781271705521429522889054373580967716448\n",
    "DKG_ID, PARTY, COEF0"
   ]
  },
  {
   "cell_type": "code",
   "execution_count": 3,
   "metadata": {},
   "outputs": [
    {
     "name": "stdout",
     "output_type": "stream",
     "text": [
      "0290ab36a28c3107d0091e8ea731e3c528046e317f854ed7b35f746d4e3484b1b3\n",
      "bc1p48a8x62eny909e65mvwvvwgjyz84ggzg4m6uhq53sjjxx0a7expsfm2azt\n"
     ]
    }
   ],
   "source": [
    "setup(\"mainnet\")\n",
    "priv = PrivateKey(secret_exponent=master_secret)\n",
    "pub = priv.get_public_key()\n",
    "print(pub.to_hex())\n",
    "print(pub.get_taproot_address().to_string())"
   ]
  },
  {
   "cell_type": "code",
   "execution_count": 4,
   "metadata": {},
   "outputs": [],
   "source": [
    "fromAddress = pub.get_taproot_address()\n",
    "# UTXO of fromAddress\n",
    "txid = \"be8c30cb34c4783750c967cb4954e92a111e70710b06accbb24957e26a815836\"\n",
    "vout = 1\n",
    "\n",
    "# all amounts are needed to sign a taproot input\n",
    "# (depending on sighash)\n",
    "\n",
    "first_amount = 5700\n",
    "amounts = [first_amount]\n",
    "\n",
    "first_script_pubkey = fromAddress.to_script_pub_key()\n",
    "\n",
    "utxos_script_pubkeys = [first_script_pubkey]\n",
    "toAddress = P2wpkhAddress(\"bc1qst5cxg66xylpwx2hdssrrmwwqezgd50j2c3704\")\n",
    "\n",
    "# create transaction input from tx id of UTXO\n",
    "txin = TxInput(txid, vout)\n",
    "\n",
    "# create transaction output\n",
    "txOut = TxOutput(first_amount - 2000, toAddress.to_script_pub_key())\n",
    "\n",
    "# create transaction without change output - if at least a single input is\n",
    "# segwit we need to set has_segwit=True\n",
    "tx = Transaction([txin], [txOut], has_segwit=True)\n",
    "tx_digest = tx.get_transaction_taproot_digest(\n",
    "    0, utxos_script_pubkeys, amounts, 0, sighash=TAPROOT_SIGHASH_ALL\n",
    ")\n"
   ]
  },
  {
   "cell_type": "code",
   "execution_count": 5,
   "metadata": {
    "metadata": {}
   },
   "outputs": [
    {
     "data": {
      "text/plain": [
       "[{'share': 260214056083543050521976932072618425897411474456882828841197837206325593718290,\n",
       "  'dkg_public_key': X: 0x90ab36a28c3107d0091e8ea731e3c528046e317f854ed7b35f746d4e3484b1b3\n",
       "  Y: 0x9bf1e979823f8b2fa05302ff90d622510bef9d3033eae6a486a0387387ff7ac2\n",
       "  (On curve <secp256k1>)},\n",
       " {'share': 400389272236767518382675433945933866607204112929169323776901456897552058225795,\n",
       "  'dkg_public_key': X: 0x90ab36a28c3107d0091e8ea731e3c528046e317f854ed7b35f746d4e3484b1b3\n",
       "  Y: 0x9bf1e979823f8b2fa05302ff90d622510bef9d3033eae6a486a0387387ff7ac2\n",
       "  (On curve <secp256k1>)},\n",
       " {'share': 540564488389991986243373935819249307316996751401455818712605076588778522733300,\n",
       "  'dkg_public_key': X: 0x90ab36a28c3107d0091e8ea731e3c528046e317f854ed7b35f746d4e3484b1b3\n",
       "  Y: 0x9bf1e979823f8b2fa05302ff90d622510bef9d3033eae6a486a0387387ff7ac2\n",
       "  (On curve <secp256k1>)}]"
      ]
     },
     "execution_count": 5,
     "metadata": {},
     "output_type": "execute_result"
    }
   ],
   "source": [
    "keys: list[frost.KeyGen] = []\n",
    "sign_keys: list[frost.Key] = []\n",
    "saved_data = {}\n",
    "\n",
    "for coef0, node_id in zip(COEF0, PARTY):\n",
    "    partners = PARTY.copy()\n",
    "    partners.remove(node_id)\n",
    "    keys.append(frost.KeyGen(DKG_ID, T, N, node_id, partners, coef0))\n",
    "\n",
    "round1_received_data = []\n",
    "for key in keys:\n",
    "    round1_send_data = key.round1()\n",
    "    round1_received_data.append(round1_send_data)\n",
    "round2_received_data = {}\n",
    "for node_id in PARTY:\n",
    "    round2_received_data[node_id] = []\n",
    "for key in keys:\n",
    "    round2_send_data = key.round2(round1_received_data)\n",
    "    for message in round2_send_data:\n",
    "        round2_received_data[message[\"receiver_id\"]].append(message)\n",
    "dkg_keys = set()\n",
    "for key in keys:\n",
    "    result = key.round3(round2_received_data[key.node_id])\n",
    "    dkg_keys.add(result[\"data\"][\"dkg_public_key\"])\n",
    "    sign_keys.append(frost.Key(key.dkg_key_pair, key.node_id))\n",
    "\n",
    "saved_data['common_data'] = {}\n",
    "saved_data['private_data'] = {}\n",
    "for key in keys:\n",
    "    nonces_common_data, nonces_private_data = frost.create_nonces(\n",
    "        int(key.node_id), 10)\n",
    "    saved_data['common_data'].update({key.node_id: nonces_common_data})\n",
    "    saved_data['private_data'].update(\n",
    "        {key.node_id: {'nonces': nonces_private_data}})\n",
    "[s.dkg_key_pair for s in sign_keys]"
   ]
  },
  {
   "cell_type": "code",
   "execution_count": 6,
   "metadata": {
    "metadata": {}
   },
   "outputs": [
    {
     "data": {
      "text/plain": [
       "{'3': {'id': 3,\n",
       "  'public_nonce_d': 427163159988314646247584188695683113472570043255019202432045418234711202560580,\n",
       "  'public_nonce_e': 255945992013064246405232249967243571120479311278776310973376844770896831622443},\n",
       " '2': {'id': 2,\n",
       "  'public_nonce_d': 234653528736208866855486639944222345826252833399106804939181258974416333461557,\n",
       "  'public_nonce_e': 460370633238600515542057318689510794896448738961552678804243219294466639477316}}"
      ]
     },
     "execution_count": 6,
     "metadata": {},
     "output_type": "execute_result"
    }
   ],
   "source": [
    "sign_subset = random.sample(sign_keys, T)\n",
    "commitments_data = {}\n",
    "for key in sign_subset:\n",
    "    # commitment = saved_data['common_data'][key.node_id].pop()\n",
    "    commitment = saved_data['common_data'][key.node_id][0]\n",
    "    commitments_data[key.node_id] = commitment\n",
    "commitments_data"
   ]
  },
  {
   "cell_type": "code",
   "execution_count": 7,
   "metadata": {
    "metadata": {}
   },
   "outputs": [
    {
     "name": "stdout",
     "output_type": "stream",
     "text": [
      "start\n",
      "start\n"
     ]
    },
    {
     "data": {
      "text/plain": [
       "({'3': {'id': 3,\n",
       "   'public_nonce_d': 427163159988314646247584188695683113472570043255019202432045418234711202560580,\n",
       "   'public_nonce_e': 255945992013064246405232249967243571120479311278776310973376844770896831622443},\n",
       "  '2': {'id': 2,\n",
       "   'public_nonce_d': 234653528736208866855486639944222345826252833399106804939181258974416333461557,\n",
       "   'public_nonce_e': 460370633238600515542057318689510794896448738961552678804243219294466639477316}},\n",
       " [X: 0xd8e06e9ba147639b9d4d5993a39bf0cf559a7b52a4085aabec3f5fe4e9c95fff\n",
       "  Y: 0x9c1c2c073282721cf40769e6e0bb49c388bdf744ceb222cb3e2612ed09d86607\n",
       "  (On curve <secp256k1>),\n",
       "  X: 0xd8e06e9ba147639b9d4d5993a39bf0cf559a7b52a4085aabec3f5fe4e9c95fff\n",
       "  Y: 0x9c1c2c073282721cf40769e6e0bb49c388bdf744ceb222cb3e2612ed09d86607\n",
       "  (On curve <secp256k1>)],\n",
       " [{'id': 3,\n",
       "   'signature': 56178521290608126376077952187773679324270379982408481561033050602953740872912,\n",
       "   'public_key': 370118724089504200124903216784200312525825085195558868135484683967972212696371,\n",
       "   'aggregated_public_nonce': X: 0xd8e06e9ba147639b9d4d5993a39bf0cf559a7b52a4085aabec3f5fe4e9c95fff\n",
       "   Y: 0x9c1c2c073282721cf40769e6e0bb49c388bdf744ceb222cb3e2612ed09d86607\n",
       "   (On curve <secp256k1>)},\n",
       "  {'id': 2,\n",
       "   'signature': 41470353492772596410288307581463654378102677601470548946891440403954442697541,\n",
       "   'public_key': 248949108821868788890168518127319862474348752882483197388042308148809296833887,\n",
       "   'aggregated_public_nonce': X: 0xd8e06e9ba147639b9d4d5993a39bf0cf559a7b52a4085aabec3f5fe4e9c95fff\n",
       "   Y: 0x9c1c2c073282721cf40769e6e0bb49c388bdf744ceb222cb3e2612ed09d86607\n",
       "   (On curve <secp256k1>)}],\n",
       " {'share': 540564488389991986243373935819249307316996751401455818712605076588778522733300,\n",
       "  'dkg_public_key': X: 0x90ab36a28c3107d0091e8ea731e3c528046e317f854ed7b35f746d4e3484b1b3\n",
       "  Y: 0x9bf1e979823f8b2fa05302ff90d622510bef9d3033eae6a486a0387387ff7ac2\n",
       "  (On curve <secp256k1>)})"
      ]
     },
     "execution_count": 7,
     "metadata": {},
     "output_type": "execute_result"
    }
   ],
   "source": [
    "signs = []\n",
    "agregated_nonces = []\n",
    "# msg = b'o\\xde\\xdd\\xc6\\xb1!\\xdc<\\xa9\\x08]\\t\\xa1>p\\xe2!\\xcfr\\x9e<\\x87T\\xce\\xc5;\\r\\xa4p (\\xc7'\n",
    "\n",
    "for key in sign_subset:\n",
    "    print(\"start\")\n",
    "\n",
    "    # single_sign, remove_data = key.sign(\n",
    "    #     commitments_data, msg, saved_data[\"private_data\"][key.node_id][\"nonces\"]\n",
    "    # )\n",
    "\n",
    "    single_sign, remove_data = key.sign(\n",
    "        commitments_data,\n",
    "        tx_digest,\n",
    "        saved_data[\"private_data\"][key.node_id][\"nonces\"],\n",
    "    )\n",
    "    # saved_data[\"private_data\"][key.node_id][\"nonces\"].remove(remove_data)\n",
    "    agregated_nonces.append(single_sign[\"aggregated_public_nonce\"])\n",
    "\n",
    "    signs.append(single_sign)\n",
    "\n",
    "commitments_data, agregated_nonces, signs, sign_subset[0].dkg_key_pair"
   ]
  },
  {
   "cell_type": "code",
   "execution_count": 8,
   "metadata": {
    "metadata": {}
   },
   "outputs": [
    {
     "data": {
      "text/plain": [
       "{'public_nonce': X: 0xd8e06e9ba147639b9d4d5993a39bf0cf559a7b52a4085aabec3f5fe4e9c95fff\n",
       " Y: 0x9c1c2c073282721cf40769e6e0bb49c388bdf744ceb222cb3e2612ed09d86607\n",
       " (On curve <secp256k1>),\n",
       " 'public_key': X: 0x90ab36a28c3107d0091e8ea731e3c528046e317f854ed7b35f746d4e3484b1b3\n",
       " Y: 0x9bf1e979823f8b2fa05302ff90d622510bef9d3033eae6a486a0387387ff7ac2\n",
       " (On curve <secp256k1>),\n",
       " 'signature': 97648874783380722786366259769237333702373057583879030507924491006908183570453,\n",
       " 'message_hash': b'2\\xa4u\\x9d\\x83\\xfd{\\x91E\\xa6G\\xc7\\xa1\\x94,-G\\xd9\\x8e\\xc3}\\x91{\\xaa\\xde\\x1c\\x80f\\x1d\\xa5\\xd9N'}"
      ]
     },
     "execution_count": 8,
     "metadata": {},
     "output_type": "execute_result"
    }
   ],
   "source": [
    "group_sign = frost.aggregate_signatures(\n",
    "    tx_digest,\n",
    "    signs,\n",
    "    agregated_nonces[0],\n",
    "    result[\"data\"][\"dkg_public_key\"],\n",
    ")\n",
    "group_sign\n"
   ]
  },
  {
   "cell_type": "code",
   "execution_count": 9,
   "metadata": {
    "scrolled": true
   },
   "outputs": [
    {
     "data": {
      "text/plain": [
       "'0290ab36a28c3107d0091e8ea731e3c528046e317f854ed7b35f746d4e3484b1b3'"
      ]
     },
     "metadata": {},
     "output_type": "display_data"
    },
    {
     "data": {
      "text/plain": [
       "'bc1p48a8x62eny909e65mvwvvwgjyz84ggzg4m6uhq53sjjxx0a7expsfm2azt'"
      ]
     },
     "metadata": {},
     "output_type": "display_data"
    },
    {
     "name": "stdout",
     "output_type": "stream",
     "text": [
      "bc1p48a8x62eny909e65mvwvvwgjyz84ggzg4m6uhq53sjjxx0a7expsfm2azt\n",
      "\n",
      "tx digest:\n",
      "b'2\\xa4u\\x9d\\x83\\xfd{\\x91E\\xa6G\\xc7\\xa1\\x94,-G\\xd9\\x8e\\xc3}\\x91{\\xaa\\xde\\x1c\\x80f\\x1d\\xa5\\xd9N'\n",
      "\n",
      "tx digest hex:\n",
      "32a4759d83fd7b9145a647c7a1942c2d47d98ec37d917baade1c80661da5d94e\n",
      "\n",
      "txid: bdf2f23bb2913d2ad427abd2cd512098339a329ee0e1ec42c6d07b9384aca43c\n",
      "\n",
      "txwid: af99e53cbc8a513aabb5659be4332edc0d3f86cd13c547fc910fa7789e27f7c9\n",
      "signature: d8e06e9ba147639b9d4d5993a39bf0cf559a7b52a4085aabec3f5fe4e9c95fffd7e34df58aceae3bddb3ebee368f02159f14674c49e52539d8d11379c25b6815\n",
      "R: 98096112424370425077034809776438493794353017702109009499814790104205744496639\n",
      "s: 97648874783380722786366259769237333702373057583879030507924491006908183570453\n",
      "\n",
      "Raw signed transaction:\n",
      "020000000001013658816ae25749b2cbac060b71701e112ae95449cb67c9503778c434cb308cbe0100000000ffffffff01740e00000000000016001482e983235a313e1719576c2031edce064486d1f20140d8e06e9ba147639b9d4d5993a39bf0cf559a7b52a4085aabec3f5fe4e9c95fffd7e34df58aceae3bddb3ebee368f02159f14674c49e52539d8d11379c25b681500000000\n",
      "\n",
      "TxId: bdf2f23bb2913d2ad427abd2cd512098339a329ee0e1ec42c6d07b9384aca43c\n",
      "\n",
      "TxwId: c88e11dd3df09f5f047c1deb0182dc2424fe7bc8d5b582b6cf933c80848c5799\n",
      "\n",
      "Size: 150\n",
      "\n",
      "vSize: 99\n"
     ]
    }
   ],
   "source": [
    "## sign transaction using the master key\n",
    "setup(\"mainnet\")\n",
    "priv = PrivateKey(secret_exponent=master_secret)\n",
    "pub = priv.get_public_key()\n",
    "display(pub.to_hex())\n",
    "display(pub.get_taproot_address().to_string())\n",
    "\n",
    "fromAddress = pub.get_taproot_address()\n",
    "print(fromAddress.to_string())\n",
    "# UTXO of fromAddress\n",
    "txid = \"be8c30cb34c4783750c967cb4954e92a111e70710b06accbb24957e26a815836\"\n",
    "vout = 1\n",
    "\n",
    "# all amounts are needed to sign a taproot input\n",
    "# (depending on sighash)\n",
    "\n",
    "first_amount = 5700\n",
    "amounts = [first_amount]\n",
    "\n",
    "first_script_pubkey = fromAddress.to_script_pub_key()\n",
    "\n",
    "utxos_script_pubkeys = [first_script_pubkey]\n",
    "toAddress = P2wpkhAddress(\"bc1qst5cxg66xylpwx2hdssrrmwwqezgd50j2c3704\")\n",
    "\n",
    "# create transaction input from tx id of UTXO\n",
    "txin = TxInput(txid, vout)\n",
    "\n",
    "# create transaction output\n",
    "txOut = TxOutput(first_amount - 2000, toAddress.to_script_pub_key())\n",
    "\n",
    "# create transaction without change output - if at least a single input is\n",
    "# segwit we need to set has_segwit=True\n",
    "tx = Transaction([txin], [txOut], has_segwit=True)\n",
    "tx_digest = tx.get_transaction_taproot_digest(\n",
    "    0, utxos_script_pubkeys, amounts, 0, sighash=TAPROOT_SIGHASH_ALL\n",
    ")\n",
    "print(\"\\ntx digest:\\n\" + str(tx_digest))\n",
    "print(\"\\ntx digest hex:\\n\" + tx_digest.hex())\n",
    "\n",
    "print(\"\\ntxid: \" + tx.get_txid())\n",
    "print(\"\\ntxwid: \" + tx.get_wtxid())\n",
    "\n",
    "\n",
    "sig = bytes_from_int(group_sign[\"public_nonce\"].x) + bytes_from_int(\n",
    "    group_sign[\"signature\"]\n",
    ")\n",
    "print(\"signature:\", sig.hex())\n",
    "print(\"R:\", int_from_bytes(sig[:32]))\n",
    "print(\"s:\", int_from_bytes(sig[32:]))\n",
    "# sig = b'%\\x15\\xf2\\x84\\x0f\\x1d\\x95\\x104KK\\x00:}\\xe5w!\\xf3\\xe4&\\xa6\\xa6\\xe3\\xa6\\xd3i<\\xce\\x9d\\xa1\\xb9\\xf4dj\\x95\\xa7\\x1f\\xc5\\xcb\\x1c\\x8b\\x8c\\x866\\xe9\\xba\\x1e\\xfbt\\xaa\\xad\\x97\\x1c$f\\xf0\\xa72yLVn\\x01P'\n",
    "\n",
    "tx.witnesses.append(TxWitnessInput([sig.hex()]))\n",
    "\n",
    "# print raw signed transaction ready to be broadcasted\n",
    "print(\"\\nRaw signed transaction:\\n\" + tx.serialize())\n",
    "\n",
    "print(\"\\nTxId:\", tx.get_txid())\n",
    "print(\"\\nTxwId:\", tx.get_wtxid())\n",
    "\n",
    "print(\"\\nSize:\", tx.get_size())\n",
    "print(\"\\nvSize:\", tx.get_vsize())"
   ]
  }
 ],
 "metadata": {
  "kernelspec": {
   "display_name": "Python 3 (ipykernel)",
   "language": "python",
   "name": "python3"
  },
  "language_info": {
   "codemirror_mode": {
    "name": "ipython",
    "version": 3
   },
   "file_extension": ".py",
   "mimetype": "text/x-python",
   "name": "python",
   "nbconvert_exporter": "python",
   "pygments_lexer": "ipython3",
   "version": "3.10.12"
  }
 },
 "nbformat": 4,
 "nbformat_minor": 4
}
